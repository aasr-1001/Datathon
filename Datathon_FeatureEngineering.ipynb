{
  "nbformat": 4,
  "nbformat_minor": 0,
  "metadata": {
    "colab": {
      "provenance": [],
      "authorship_tag": "ABX9TyOfjo4ip84KTOG6QXzwGzcj",
      "include_colab_link": true
    },
    "kernelspec": {
      "name": "python3",
      "display_name": "Python 3"
    },
    "language_info": {
      "name": "python"
    }
  },
  "cells": [
    {
      "cell_type": "markdown",
      "metadata": {
        "id": "view-in-github",
        "colab_type": "text"
      },
      "source": [
        "<a href=\"https://colab.research.google.com/github/aasr-1001/Datathon/blob/main/Datathon_FeatureEngineering.ipynb\" target=\"_parent\"><img src=\"https://colab.research.google.com/assets/colab-badge.svg\" alt=\"Open In Colab\"/></a>"
      ]
    },
    {
      "cell_type": "code",
      "execution_count": 1,
      "metadata": {
        "id": "q3SUvxkLQQmf",
        "colab": {
          "base_uri": "https://localhost:8080/"
        },
        "outputId": "0814e09d-d441-474b-e57a-f808746a03c2"
      },
      "outputs": [
        {
          "output_type": "stream",
          "name": "stdout",
          "text": [
            "Mounted at /content/drive\n"
          ]
        }
      ],
      "source": [
        "# mount drive\n",
        "from google.colab import drive\n",
        "drive.mount('/content/drive')"
      ]
    },
    {
      "cell_type": "code",
      "source": [
        "import pandas as pd\n",
        "import numpy as np\n",
        "from sklearn.decomposition import PCA\n",
        "from sklearn.preprocessing import PowerTransformer\n",
        "from sklearn.preprocessing import StandardScaler\n",
        "import matplotlib.pyplot as plt\n",
        "import seaborn as sns"
      ],
      "metadata": {
        "id": "Ac7ZNZmp1Gul"
      },
      "execution_count": 19,
      "outputs": []
    },
    {
      "cell_type": "code",
      "source": [
        "data=pd.read_csv(\"/content/drive/MyDrive/train_processed.csv\")\n",
        "\n",
        "# Faeture Engineering\n",
        "\n",
        "file_path = \"/content/drive/MyDrive/train_processed.csv\"\n",
        "df = pd.read_csv(file_path)\n",
        "\n",
        "correlation = df.corr()[\"SalePrice\"].abs().sort_values(ascending=False)\n",
        "top_features = correlation[1:10]\n",
        "\n",
        "\n",
        "plt.figure(figsize=(10, 1))\n",
        "heatmap_data = pd.DataFrame(top_features).T\n",
        "sns.heatmap(heatmap_data, cmap=\"viridis\", cbar=True, annot=False)\n",
        "plt.title(\"1D Heatmap of Absolute Correlation with SalePrice\")\n",
        "plt.yticks([])\n",
        "plt.xlabel(\"Features\")\n",
        "plt.show()\n"
      ],
      "metadata": {
        "colab": {
          "base_uri": "https://localhost:8080/",
          "height": 250
        },
        "id": "1uwlNQpP0na9",
        "outputId": "414fba11-3894-446f-cda7-f4cfc81cbd33"
      },
      "execution_count": 18,
      "outputs": [
        {
          "output_type": "display_data",
          "data": {
            "text/plain": [
              "<Figure size 1000x100 with 2 Axes>"
            ],
            "image/png": "[encoded data removed]"
          },
          "metadata": {}
        }
      ]
    },
    {
      "cell_type": "code",
      "source": [
        "# HANDLING SKEWED DATA\n",
        "\n",
        "\n",
        "selected_features = top_features.index.tolist()\n",
        "X = df[selected_features]\n",
        "y = df[\"SalePrice\"]\n",
        "\n",
        "skew_before = X.skew().sort_values(ascending=False)\n",
        "\n",
        "# Handling skewed data using PowerTransformer (Yeo-Johnson)\n",
        "skew_handler = PowerTransformer(method='yeo-johnson')\n",
        "X_skew_corrected = skew_handler.fit_transform(X)\n",
        "X_corrected_df = pd.DataFrame(X_skew_corrected, columns=selected_features)\n",
        "\n",
        "\n",
        "skew_after = X_corrected_df.skew().sort_values(ascending=False)\n",
        "\n",
        "skew_change = pd.DataFrame({\n",
        "    \"Skew Before\": skew_before,\n",
        "    \"Skew After\": skew_after\n",
        "})\n",
        "skew_change[\"Skew Reduced\"] = (abs(skew_change[\"Skew Before\"]) - abs(skew_change[\"Skew After\"])) > 0.5\n",
        "\n",
        "affected_columns = skew_change[skew_change[\"Skew Reduced\"]]\n",
        "print(\"Columns with significant skew correction:\\n\", affected_columns)"
      ],
      "metadata": {
        "colab": {
          "base_uri": "https://localhost:8080/"
        },
        "id": "GTtBNjJK8yx0",
        "outputId": "e07aa6c6-a587-42e3-8083-f8731e9772f3"
      },
      "execution_count": 20,
      "outputs": [
        {
          "output_type": "stream",
          "name": "stdout",
          "text": [
            "Columns with significant skew correction:\n",
            "            Skew Before  Skew After  Skew Reduced\n",
            "1stFlrSF      0.664134   -0.002069          True\n",
            "ExterQual    -1.830265   -0.622031          True\n",
            "GrLivArea     0.593556   -0.007095          True\n",
            "TotalSF       0.626136    0.016638          True\n"
          ]
        }
      ]
    },
    {
      "cell_type": "code",
      "source": [
        "\n",
        "original_csv_path = \"/content/drive/MyDrive/train_processed.csv\"\n",
        "output_csv_path = \"/content/drive/MyDrive/train_processed_skew_corrected.csv\"\n",
        "\n",
        "df_original = pd.read_csv(original_csv_path)\n",
        "\n",
        "\n",
        "for col in X_corrected_df.columns:\n",
        "    if col != \"SalePrice\":\n",
        "        df_original[col] = X_corrected_df[col]\n",
        "\n",
        "df_original.to_csv(output_csv_path, index=False)\n",
        "print(f\"Skew-corrected dataset saved to: {output_csv_path}\")\n"
      ],
      "metadata": {
        "colab": {
          "base_uri": "https://localhost:8080/"
        },
        "id": "C-shjbgDAOy5",
        "outputId": "6a3ead45-368e-47ec-a3e0-c26bd846b70c"
      },
      "execution_count": 21,
      "outputs": [
        {
          "output_type": "stream",
          "name": "stdout",
          "text": [
            "Skew-corrected dataset saved to: /content/drive/MyDrive/train_processed_skew_corrected.csv\n"
          ]
        }
      ]
    },
    {
      "cell_type": "code",
      "source": [],
      "metadata": {
        "id": "B60nLYR4Q8a_"
      },
      "execution_count": null,
      "outputs": []
    }
  ]
}